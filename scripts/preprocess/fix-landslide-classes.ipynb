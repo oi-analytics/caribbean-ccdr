{
 "cells": [
  {
   "cell_type": "markdown",
   "id": "42ab99be",
   "metadata": {},
   "source": [
    "# Fix landslide susceptibility maps\n",
    "\n",
    "\n",
    "Reclassify / set nodata correctly"
   ]
  },
  {
   "cell_type": "code",
   "execution_count": null,
   "id": "8a5bfe31",
   "metadata": {},
   "outputs": [],
   "source": [
    "import os\n",
    "from glob import glob\n",
    "\n",
    "import rasterio"
   ]
  },
  {
   "cell_type": "code",
   "execution_count": null,
   "id": "7fe952fd",
   "metadata": {},
   "outputs": [],
   "source": [
    "# set current working directory to incoming CHARIM landslide folder\n",
    "#os.chdir(\"./incoming_data/CHARIM landslide\")"
   ]
  },
  {
   "cell_type": "code",
   "execution_count": null,
   "id": "c716fec7",
   "metadata": {},
   "outputs": [],
   "source": [
    "glob(\"**/*.tif\", recursive=True)"
   ]
  },
  {
   "cell_type": "markdown",
   "id": "b83e9198",
   "metadata": {},
   "source": [
    "### St Lucia - fix class ordering"
   ]
  },
  {
   "cell_type": "code",
   "execution_count": null,
   "id": "1f3ca0c9",
   "metadata": {},
   "outputs": [],
   "source": [
    "ds = rasterio.open('lca/landslide_suscept_new/landslide_suscept_new.tif')    "
   ]
  },
  {
   "cell_type": "code",
   "execution_count": null,
   "id": "b2605ea6",
   "metadata": {},
   "outputs": [],
   "source": [
    "data = ds.read(1)\n",
    "data[data == 1] = 9 # should be 3\n",
    "data[data == 2] = 8 # should be 1\n",
    "data[data == 3] = 7 # should be 2\n",
    "\n",
    "data[data == 9] = 3 # should be 3\n",
    "data[data == 8] = 1 # should be 1\n",
    "data[data == 7] = 2 # should be 2\n",
    "data"
   ]
  },
  {
   "cell_type": "code",
   "execution_count": null,
   "id": "a4528372",
   "metadata": {},
   "outputs": [],
   "source": [
    "new_dataset = rasterio.open(\n",
    "    'lca/landslide_suscept_new/landslide_suscept_new_reclass.tif',\n",
    "    'w',\n",
    "    driver='GTiff',\n",
    "    height=data.shape[0],\n",
    "    width=data.shape[1],\n",
    "    count=1,\n",
    "    dtype=data.dtype,\n",
    "    crs=ds.crs,\n",
    "    transform=ds.transform,\n",
    "    compress='lzw',\n",
    ")\n",
    "new_dataset.write(data, 1)\n",
    "new_dataset.close()\n",
    "ds.close()"
   ]
  },
  {
   "cell_type": "markdown",
   "id": "6e1e4ffd",
   "metadata": {},
   "source": [
    "### St Vincent - fix class 4"
   ]
  },
  {
   "cell_type": "code",
   "execution_count": null,
   "id": "4f659ac7",
   "metadata": {},
   "outputs": [],
   "source": [
    "ds = rasterio.open('vct/landslide_susceptibility_cls_pr/landslide_susceptibility_cls_pr.tif')"
   ]
  },
  {
   "cell_type": "code",
   "execution_count": null,
   "id": "0ebe9c80",
   "metadata": {},
   "outputs": [],
   "source": [
    "data = ds.read(1)"
   ]
  },
  {
   "cell_type": "code",
   "execution_count": null,
   "id": "c8114ca1",
   "metadata": {},
   "outputs": [],
   "source": [
    "data[data == 4] = 0  # set 4 to zero, then write as nodata"
   ]
  },
  {
   "cell_type": "code",
   "execution_count": null,
   "id": "f66f257d",
   "metadata": {},
   "outputs": [],
   "source": [
    "new_dataset = rasterio.open(\n",
    "    'vct/landslide_susceptibility_cls_pr/landslide_susceptibility_cls_pr_reclass.tif',\n",
    "    'w',\n",
    "    driver='GTiff',\n",
    "    height=data.shape[0],\n",
    "    width=data.shape[1],\n",
    "    count=1,\n",
    "    dtype=data.dtype,\n",
    "    crs=ds.crs,\n",
    "    transform=ds.transform,\n",
    "    nodata=0,\n",
    "    compress='lzw',\n",
    ")\n",
    "new_dataset.write(data, 1)\n",
    "new_dataset.close()\n",
    "ds.close()"
   ]
  },
  {
   "cell_type": "code",
   "execution_count": null,
   "id": "5bb64b47",
   "metadata": {},
   "outputs": [],
   "source": [
    "!mkdir -p ../../processed_data/hazards/landslide/\n",
    "!cp vct/landslide_susceptibility_cls_pr/landslide_susceptibility_cls_pr_reclass.tif \\\n",
    "    ../../processed_data/hazards/landslide/landslide__isoa3_vct.tif\n",
    "!cp lca/landslide_suscept_new/landslide_suscept_new_reclass.tif \\\n",
    "    ../../processed_data/hazards/landslide/landslide__isoa3_lca.tif\n",
    "!cp dma/landslide_susceptibility.tif \\\n",
    "    ../../processed_data/hazards/landslide/landslide__isoa3_dma.tif\n",
    "!cp grd/landslide_susceptibility/landslide_susceptibility.tif \\\n",
    "    ../../processed_data/hazards/landslide/landslide__isoa3_grd.tif"
   ]
  }
 ],
 "metadata": {
  "kernelspec": {
   "display_name": "Python 3 (ipykernel)",
   "language": "python",
   "name": "python3"
  },
  "language_info": {
   "codemirror_mode": {
    "name": "ipython",
    "version": 3
   },
   "file_extension": ".py",
   "mimetype": "text/x-python",
   "name": "python",
   "nbconvert_exporter": "python",
   "pygments_lexer": "ipython3",
   "version": "3.11.0"
  }
 },
 "nbformat": 4,
 "nbformat_minor": 5
}
