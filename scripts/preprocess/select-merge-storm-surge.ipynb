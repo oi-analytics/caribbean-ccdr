{
 "cells": [
  {
   "cell_type": "markdown",
   "id": "eb4f06a7",
   "metadata": {},
   "source": [
    "## Merge and rename storm surge hazard files"
   ]
  },
  {
   "cell_type": "code",
   "execution_count": null,
   "id": "43c69cd3",
   "metadata": {},
   "outputs": [],
   "source": [
    "import os\n",
    "import pathlib\n",
    "import re\n",
    "import shutil\n",
    "import subprocess\n",
    "from glob import glob"
   ]
  },
  {
   "cell_type": "code",
   "execution_count": null,
   "id": "7b829547",
   "metadata": {},
   "outputs": [],
   "source": [
    "# Change to incoming_data, storm surge data folder\n",
    "# os.chdir(\"../incoming_data/Deltares Storm Surge\")"
   ]
  },
  {
   "cell_type": "code",
   "execution_count": null,
   "id": "f6c28eb6",
   "metadata": {},
   "outputs": [],
   "source": [
    "out_dir = \"../../processed_data/hazards/deltares_storm_surge/\""
   ]
  },
  {
   "cell_type": "markdown",
   "id": "d119faa6",
   "metadata": {},
   "source": [
    "For Dominica and St Lucia, rename only:"
   ]
  },
  {
   "cell_type": "code",
   "execution_count": null,
   "id": "e884ff88",
   "metadata": {},
   "outputs": [],
   "source": [
    "for f in sorted(glob(\"**/*DMA*.tif\", recursive=True)):\n",
    "    fname = pathlib.Path(f).name\n",
    "    rcp, epoch, rp = re.match(r\".*RCP(\\d\\d)(\\d+)_epsg_32620_RP_(\\d+).*\", fname).group(\n",
    "        1, 2, 3\n",
    "    )\n",
    "    if epoch == \"2010\":\n",
    "        rcp = \"baseline\"\n",
    "    out_fname = f\"coastal__epoch_{epoch}__rcp_{rcp}__rp_{rp}__isoa3_dma.tif\"\n",
    "    shutil.copy(f, os.path.join(out_dir, out_fname))"
   ]
  },
  {
   "cell_type": "code",
   "execution_count": null,
   "id": "03e297af",
   "metadata": {},
   "outputs": [],
   "source": [
    "for f in sorted(glob(\"**/*LCA*.tif\", recursive=True)):\n",
    "    fname = pathlib.Path(f).name\n",
    "    rcp, epoch, rp = re.match(r\".*RCP(\\d\\d)(\\d+)_epsg_32620_RP_(\\d+).*\", fname).group(\n",
    "        1, 2, 3\n",
    "    )\n",
    "    if epoch == \"2010\":\n",
    "        rcp = \"baseline\"\n",
    "    out_fname = f\"coastal__epoch_{epoch}__rcp_{rcp}__rp_{rp}__isoa3_lca.tif\"\n",
    "    shutil.copy(f, os.path.join(out_dir, out_fname))"
   ]
  },
  {
   "cell_type": "markdown",
   "id": "2a47f39d",
   "metadata": {},
   "source": [
    "Merge multiple island grids. Maybe align on major island\n",
    "\n",
    "GRD 629325:676575 1324055:1387180\n",
    "\n",
    "VCT 666820:705220 1391170:1481725"
   ]
  },
  {
   "cell_type": "code",
   "execution_count": null,
   "id": "46e523a1",
   "metadata": {},
   "outputs": [],
   "source": [
    "vct_groups = set()\n",
    "\n",
    "for f in sorted(glob(\"**/*VCT*.tif\", recursive=True)):\n",
    "    if \"wrapped\" in f:\n",
    "        continue\n",
    "    fname = pathlib.Path(f).name\n",
    "\n",
    "    part, rcp, epoch, rp = re.match(\n",
    "        r\".*VCT00(\\d)RCP(\\d\\d)(\\d+)_epsg_32620_RP_(\\d+).tif\", fname\n",
    "    ).group(1, 2, 3, 4)\n",
    "    vct_groups.add((rcp, epoch, rp))\n",
    "\n",
    "    subprocess.run(\n",
    "        [\"rm\", \"-f\", f.replace(\".tif\", \".wrapped.tif\")],\n",
    "        check=True,\n",
    "        capture_output=True,\n",
    "    )\n",
    "    subprocess.run(\n",
    "        [\"rm\", \"-f\", fname.replace(\".tif\", \".wrapped.tif\")],\n",
    "        check=True,\n",
    "        capture_output=True,\n",
    "    )\n",
    "    subprocess.run(\n",
    "        [\n",
    "            \"gdalwarp\",\n",
    "            \"-te\",\n",
    "            \"666820\",\n",
    "            \"1391170\",\n",
    "            \"705220\",\n",
    "            \"1481725\",\n",
    "            \"-co\",\n",
    "            \"COMPRESS=LZW\",\n",
    "            f,\n",
    "            fname.replace(\".tif\", \".wrapped.tif\"),\n",
    "        ],\n",
    "        check=True,\n",
    "    )\n",
    "    print(fname)"
   ]
  },
  {
   "cell_type": "code",
   "execution_count": null,
   "id": "ea9c54f8",
   "metadata": {},
   "outputs": [],
   "source": [
    "for rcp, epoch, rp in vct_groups:\n",
    "    if epoch == \"2010\":\n",
    "        out_rcp = \"baseline\"\n",
    "    else:\n",
    "        out_rcp = rcp\n",
    "\n",
    "    out_fname = f\"coastal__epoch_{epoch}__rcp_{out_rcp}__rp_{rp}__isoa3_vct.tif\"\n",
    "\n",
    "    subprocess.run(\n",
    "        [\"rm\", \"-f\", out_fname],\n",
    "        check=True,\n",
    "        capture_output=True,\n",
    "    )\n",
    "    subprocess.run(\n",
    "        [\n",
    "            \"gdal_merge.py\",\n",
    "            \"-o\",\n",
    "            out_fname,\n",
    "            \"-co\",\n",
    "            \"COMPRESS=LZW\",\n",
    "            \"-a_nodata\",\n",
    "            \"0\",\n",
    "            f\"SaintVincentandtheGrenadinesVCT001RCP{rcp}{epoch}_epsg_32620_RP_{rp}.wrapped.tif\",\n",
    "            f\"SaintVincentandtheGrenadinesVCT002RCP{rcp}{epoch}_epsg_32620_RP_{rp}.wrapped.tif\",\n",
    "            f\"SaintVincentandtheGrenadinesVCT003RCP{rcp}{epoch}_epsg_32620_RP_{rp}.wrapped.tif\",\n",
    "            f\"SaintVincentandtheGrenadinesVCT004RCP{rcp}{epoch}_epsg_32620_RP_{rp}.wrapped.tif\",\n",
    "            f\"SaintVincentandtheGrenadinesVCT005RCP{rcp}{epoch}_epsg_32620_RP_{rp}.wrapped.tif\",\n",
    "            f\"SaintVincentandtheGrenadinesVCT006RCP{rcp}{epoch}_epsg_32620_RP_{rp}.wrapped.tif\",\n",
    "            f\"SaintVincentandtheGrenadinesVCT007RCP{rcp}{epoch}_epsg_32620_RP_{rp}.wrapped.tif\",\n",
    "            f\"SaintVincentandtheGrenadinesVCT008RCP{rcp}{epoch}_epsg_32620_RP_{rp}.wrapped.tif\",\n",
    "        ],\n",
    "        check=True,\n",
    "    )\n",
    "    print(out_fname)"
   ]
  },
  {
   "cell_type": "code",
   "execution_count": null,
   "id": "c37cc68d",
   "metadata": {},
   "outputs": [],
   "source": [
    "grd_groups = set()\n",
    "\n",
    "for f in sorted(glob(\"**/*GRD*.tif\", recursive=True)):\n",
    "    if \"wrapped\" in f:\n",
    "        continue\n",
    "    fname = pathlib.Path(f).name\n",
    "\n",
    "    part, rcp, epoch, rp = re.match(\n",
    "        r\".*GRD00(\\d)RCP(\\d\\d)(\\d+)_epsg_32620_RP_(\\d+).tif\", fname\n",
    "    ).group(1, 2, 3, 4)\n",
    "    grd_groups.add((rcp, epoch, rp))\n",
    "\n",
    "    subprocess.run(\n",
    "        [\"rm\", \"-f\", f.replace(\".tif\", \".wrapped.tif\")],\n",
    "        check=True,\n",
    "        capture_output=True,\n",
    "    )\n",
    "    subprocess.run(\n",
    "        [\"rm\", \"-f\", fname.replace(\".tif\", \".wrapped.tif\")],\n",
    "        check=True,\n",
    "        capture_output=True,\n",
    "    )\n",
    "    subprocess.run(\n",
    "        [\n",
    "            \"gdalwarp\",\n",
    "            \"-te\",\n",
    "            \"629325\",\n",
    "            \"1324055\",\n",
    "            \"676575\",\n",
    "            \"1387180\",\n",
    "            \"-ts\",\n",
    "            \"1575\",\n",
    "            \"2104\",\n",
    "            \"-co\",\n",
    "            \"COMPRESS=LZW\",\n",
    "            f,\n",
    "            fname.replace(\".tif\", \".wrapped.tif\"),\n",
    "        ],\n",
    "        check=True,\n",
    "    )\n",
    "    print(fname)"
   ]
  },
  {
   "cell_type": "code",
   "execution_count": null,
   "id": "c211e663",
   "metadata": {},
   "outputs": [],
   "source": [
    "for rcp, epoch, rp in grd_groups:\n",
    "    if epoch == \"2010\":\n",
    "        out_rcp = \"baseline\"\n",
    "    else:\n",
    "        out_rcp = rcp\n",
    "\n",
    "    out_fname = f\"coastal__epoch_{epoch}__rcp_{out_rcp}__rp_{rp}__isoa3_grd.tif\"\n",
    "\n",
    "    subprocess.run(\n",
    "        [\"rm\", \"-f\", out_fname],\n",
    "        check=True,\n",
    "        capture_output=True,\n",
    "    )\n",
    "    subprocess.run(\n",
    "        [\n",
    "            \"gdal_calc.py\",\n",
    "            \"-A\",\n",
    "            f\"GrenadaGRD001RCP{rcp}{epoch}_epsg_32620_RP_{rp}.wrapped.tif\",\n",
    "            \"-B\",\n",
    "            f\"GrenadaGRD002RCP{rcp}{epoch}_epsg_32620_RP_{rp}.wrapped.tif\",\n",
    "            \"-C\",\n",
    "            f\"GrenadaGRD003RCP{rcp}{epoch}_epsg_32620_RP_{rp}.wrapped.tif\",\n",
    "            \"-D\",\n",
    "            f\"GrenadaGRD004RCP{rcp}{epoch}_epsg_32620_RP_{rp}.wrapped.tif\",\n",
    "            f\"--outfile={out_fname}\",\n",
    "            '--calc=\"numpy.max((A,B,C,D),axis=0)\"',\n",
    "            \"--NoDataValue=0\",\n",
    "            \"--co=COMPRESS=LZW\",\n",
    "        ],\n",
    "        check=True,\n",
    "    )\n",
    "    print(out_fname)"
   ]
  }
 ],
 "metadata": {
  "kernelspec": {
   "display_name": "Python 3 (ipykernel)",
   "language": "python",
   "name": "python3"
  },
  "language_info": {
   "codemirror_mode": {
    "name": "ipython",
    "version": 3
   },
   "file_extension": ".py",
   "mimetype": "text/x-python",
   "name": "python",
   "nbconvert_exporter": "python",
   "pygments_lexer": "ipython3",
   "version": "3.11.0"
  }
 },
 "nbformat": 4,
 "nbformat_minor": 5
}
