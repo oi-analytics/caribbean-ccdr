{
 "cells": [
  {
   "attachments": {},
   "cell_type": "markdown",
   "metadata": {},
   "source": [
    "# Extract cyclone windspeed return period maps"
   ]
  },
  {
   "cell_type": "code",
   "execution_count": null,
   "metadata": {},
   "outputs": [],
   "source": [
    "import os\n",
    "import multiprocessing\n",
    "import re\n",
    "import subprocess\n",
    "from glob import glob\n",
    "from pathlib import Path\n",
    "\n",
    "import matplotlib.pyplot as plt\n",
    "import pandas\n",
    "import rasterio"
   ]
  },
  {
   "cell_type": "code",
   "execution_count": null,
   "metadata": {},
   "outputs": [],
   "source": [
    "storm_dir = Path(\"../../incoming_data/STORM tropical cyclone/\")\n",
    "Path(storm_dir).mkdir(parents=True, exist_ok=True)\n",
    "\n",
    "out_dir = Path(\"../../processed_data/hazards/storm_cyclones\")\n",
    "Path(out_dir).mkdir(parents=True, exist_ok=True)"
   ]
  },
  {
   "cell_type": "code",
   "execution_count": null,
   "metadata": {},
   "outputs": [],
   "source": [
    "os.chdir(storm_dir)"
   ]
  },
  {
   "cell_type": "code",
   "execution_count": null,
   "metadata": {},
   "outputs": [],
   "source": [
    "!zenodo_get 7438145"
   ]
  },
  {
   "attachments": {},
   "cell_type": "markdown",
   "metadata": {},
   "source": [
    "### Tropical cyclone model\n",
    "To estimate tropical cyclone (TC) wind speed, we use the synthetic cyclone database \n",
    "STORM, developed by Bloemendaal et al. (2020) [1]. The STORM database contains 10-meter \n",
    "10-minute sustained maximum wind speeds at 10km resolution globally for 26 return periods \n",
    "(ranging from 1 year to 10,000 year), estimated for baseline climate conditions and \n",
    "for mid-century (2050), RCP8.5.\n",
    "\n",
    "We create a future time slice, for a mid-century time period, using a scaling \n",
    "factor to correct the wind speed based on the expected change in extreme wind. We do this for \n",
    "two climate scenarios (RCP4.5 and RCP8.5). In this analysis, we only change the maximum \n",
    "wind speed, as these results are robust across models, and do not alter the frequency of certain \n",
    "TCs occurring, as there is little consensus on this for the North Atlantic TC basin [2]. \n",
    "\n",
    "Based on a review of the studies projecting changes in cyclone wind speed in the North Atlantic basin, \n",
    "we identify six relevant studies that use CMIP5 models for their evaluation. \n",
    "\n",
    "The end-century ranges provided by these studies are 4-6% increase for RCP4.5 and 6.3-10.5% for \n",
    "RCP8.5.\n",
    "\n",
    "To create a mid-century scenario for RCP4.5, we assume that the increase is approximately linear, \n",
    "resulting in a mean increase of 2% under RCP4.5 and 3.5% under RCP8.5.\n",
    "\n",
    "So to derive a mid-century RCP4.5 scenario from the baseline and mid-century RCP8.5 data,\n",
    "we interpolate between the baseline and each of the GCM realisations:\n",
    "\n",
    "        # Extract a change factor for RCP8.5\n",
    "        wind speed (RCP8.5, gcm) = wind speed (baseline) * change factor (RCP8.5, gcm)\n",
    "\n",
    "        # Interpolate a change factor for RCP4.5, roughly halfway between baseline and RCP8.5\n",
    "        change factor (RCP4.5, gcm) = 1 + (0.02/0.035) * (change factor (RCP8.5, gcm) - 1)\n",
    "\n",
    "        # Calculate a wind speed for RCP4.5\n",
    "        wind speed (RCP4.5, gcm) = wind speed (baseline) * change factor (RCP4.5, gcm)\n",
    "\n",
    "1. Bloemendaal, N., Haigh, I.D., de Moel, H., Muis, S., Haarsma, R.J. and Aerts, J.C., 2020. Generation of a global synthetic \n",
    "tropical cyclone hazard dataset using STORM. Scientific data, 7(1), pp.1-12.\n",
    "2. Knutson, T., Camargo, S.J., Chan, J.C., Emanuel, K., Ho, C.H., Kossin, J., Mohapatra, M., Satoh, M., Sugi, M., Walsh, K. \n",
    "and Wu, L., 2020. Tropical cyclones and climate change assessment: Part II: Projected response to anthropogenic \n",
    "warming. Bulletin of the American Meteorological Society, 101(3), pp. E303-E322.\n",
    "\n"
   ]
  },
  {
   "cell_type": "code",
   "execution_count": null,
   "metadata": {},
   "outputs": [],
   "source": [
    "fnames = sorted(glob(\"**/*.tif\", recursive=True))\n",
    "fnames"
   ]
  },
  {
   "cell_type": "code",
   "execution_count": null,
   "metadata": {},
   "outputs": [],
   "source": [
    "countries = {\n",
    "    \"dma\": \"[-61.804345, 14.941092, -60.884436, 15.811681]\",\n",
    "    \"grd\": \"[-62.131522, 11.760364, -61.262383, 12.678577]\",\n",
    "    \"lca\": \"[-61.426397, 13.465382, -60.506488, 14.335971]\",\n",
    "    \"vct\": \"[-61.637876, 12.652405, -60.768738, 13.570617]\",\n",
    "}\n",
    "\n",
    "def run_clip(cmd):\n",
    "    return subprocess.run(cmd, shell=False, capture_output=True)\n",
    "\n",
    "def generate_commands(fnames, countries, out_dir):\n",
    "    for fname in fnames:\n",
    "        matches = re.search(r\"STORM_FIXED_RETURN_PERIODS_([^_]+)_(\\d+)\", fname)\n",
    "        gcm, rp = matches.groups()\n",
    "\n",
    "        if \"constant\" == gcm:\n",
    "            ssp = \"baseline\"\n",
    "            epoch = \"2010\"\n",
    "        else:\n",
    "            ssp = \"rcp85\"\n",
    "            epoch = \"2050\"\n",
    "\n",
    "        for iso_a3, extent in countries.items():\n",
    "            out_fname  = out_dir / f\"cyclone_windspeed__epoch_{epoch}__rcp_{ssp}__gcm_{gcm}__rp_{rp}__isoa3_{iso_a3}.tif\"\n",
    "            # Run: rio clip --bounds-[xmin,ymin,xmax,ymax] input.tif output.tif\n",
    "            cmd = [\n",
    "                \"rio\",\n",
    "                \"clip\",\n",
    "                f\"--bounds={extent}\",\n",
    "                str(fname),\n",
    "                str(out_fname),\n",
    "            ]\n",
    "            yield cmd\n",
    "\n",
    "count = multiprocessing.cpu_count() - 2\n",
    "pool = multiprocessing.Pool(processes=count)\n",
    "results = pool.map(run_clip, generate_commands(fnames, countries, out_dir))\n",
    "len(results)"
   ]
  },
  {
   "cell_type": "code",
   "execution_count": null,
   "metadata": {},
   "outputs": [],
   "source": [
    "results[0].stdout, results[0].stderr"
   ]
  },
  {
   "cell_type": "code",
   "execution_count": null,
   "metadata": {},
   "outputs": [],
   "source": [
    "base_dir = Path(\"../..\")\n",
    "os.chdir(base_dir)"
   ]
  },
  {
   "cell_type": "code",
   "execution_count": null,
   "metadata": {},
   "outputs": [],
   "source": [
    "\n",
    "base_out_dir = Path(\"./processed_data/hazards/storm_cyclones\")\n",
    "out_fnames = sorted(glob(str(base_out_dir / \"*.tif\")))\n",
    "windspeed_files = pandas.DataFrame({'fname': out_fnames})\n",
    "extract_cols = [\"hazard\", \"epoch\", \"rcp\", \"gcm\", \"rp\", \"isoa3\"]\n",
    "extract_pattern = r\"(\\w+)__epoch_(\\d+)__rcp_(\\w+)__gcm_([^_]+)__rp_(\\w+)__isoa3_(\\w+)\"\n",
    "windspeed_files[\"key\"] = windspeed_files.fname.apply(lambda f: Path(f).stem)\n",
    "windspeed_files[extract_cols] = windspeed_files.key.str.extract(extract_pattern)\n",
    "windspeed_files"
   ]
  },
  {
   "cell_type": "code",
   "execution_count": null,
   "metadata": {},
   "outputs": [],
   "source": [
    "def get_paths(row):\n",
    "    \"\"\"Return future (RCP8.5) and equivalent rp/country/baseline paths for a hazard map\n",
    "    \"\"\"\n",
    "    epoch = row.epoch\n",
    "    ssp = row.rcp\n",
    "    gcm = row.gcm\n",
    "    rp = row.rp\n",
    "    iso_a3 = row.isoa3\n",
    "    return (\n",
    "        base_out_dir / f\"cyclone_windspeed__epoch_{epoch}__rcp_{ssp}__gcm_{gcm}__rp_{rp}__isoa3_{iso_a3}.tif\",\n",
    "        base_out_dir / f\"cyclone_windspeed__epoch_{epoch}__rcp_rcp45__gcm_{gcm}__rp_{rp}__isoa3_{iso_a3}.tif\",\n",
    "        base_out_dir / f\"cyclone_windspeed__epoch_2010__rcp_baseline__gcm_constant__rp_{rp}__isoa3_{iso_a3}.tif\"\n",
    "    )"
   ]
  },
  {
   "cell_type": "code",
   "execution_count": null,
   "metadata": {},
   "outputs": [],
   "source": [
    "def read_ws(fname_baseline, fname_rcp85):\n",
    "    with rasterio.open(fname_rcp85) as src:\n",
    "        ws_rcp85 = src.read(1)\n",
    "\n",
    "    with rasterio.open(fname_baseline) as src:\n",
    "        ws_baseline = src.read(1)\n",
    "\n",
    "    return ws_baseline, ws_rcp85, (src.width, src.height, src.crs, src.transform)"
   ]
  },
  {
   "cell_type": "code",
   "execution_count": null,
   "metadata": {},
   "outputs": [],
   "source": [
    "def interpolate_ws_rcp45(ws_baseline, ws_rcp85):\n",
    "    # Extract a change factor for RCP8.5\n",
    "    f_rcp85 = ws_rcp85 / ws_baseline\n",
    "\n",
    "    # Interpolate a change factor for RCP4.5, roughly halfway between baseline and RCP8.5\n",
    "    f_rcp45 = 1 + (0.02/0.035) * (f_rcp85 - 1)\n",
    "\n",
    "    # Calculate a wind speed for RCP4.5\n",
    "    ws_rcp45 = ws_baseline * f_rcp45\n",
    "\n",
    "    return ws_rcp45"
   ]
  },
  {
   "cell_type": "code",
   "execution_count": null,
   "metadata": {},
   "outputs": [],
   "source": [
    "row = windspeed_files[windspeed_files.rcp == \"rcp85\"].iloc[15]\n",
    "row"
   ]
  },
  {
   "cell_type": "code",
   "execution_count": null,
   "metadata": {},
   "outputs": [],
   "source": [
    "fname_rcp85, fname_rcp45, fname_baseline = get_paths(row)\n",
    "ws_baseline, ws_rcp85, (width, height, crs, transform) = read_ws(fname_baseline, fname_rcp85)\n",
    "ws_rcp45 = interpolate_ws_rcp45(ws_baseline, ws_rcp85)\n",
    "vmin, vmax = ws_baseline.min(), ws_rcp85.max()\n",
    "fig, axs = plt.subplots(nrows=1, ncols=3)\n",
    "axs[0].imshow(ws_baseline, vmin=vmin, vmax=vmax)\n",
    "axs[1].imshow(ws_rcp45, vmin=vmin, vmax=vmax)\n",
    "axs[2].imshow(ws_rcp85, vmin=vmin, vmax=vmax)\n"
   ]
  },
  {
   "cell_type": "code",
   "execution_count": null,
   "metadata": {},
   "outputs": [],
   "source": [
    "future_files = windspeed_files[windspeed_files.rcp == \"rcp85\"].copy()\n",
    "future_files.rcp.value_counts()"
   ]
  },
  {
   "cell_type": "code",
   "execution_count": null,
   "metadata": {},
   "outputs": [],
   "source": [
    "for row in future_files.itertuples():\n",
    "    fname_rcp85, fname_rcp45, fname_baseline = get_paths(row)\n",
    "    ws_baseline, ws_rcp85, (width, height, crs, transform) = read_ws(fname_baseline, fname_rcp85)\n",
    "    ws_rcp45 = interpolate_ws_rcp45(ws_baseline, ws_rcp85)\n",
    "    with rasterio.open(\n",
    "            fname_rcp45,\n",
    "            'w',\n",
    "            driver='GTiff',\n",
    "            height=height,\n",
    "            width=width,\n",
    "            count=1,\n",
    "            dtype=ws_rcp45.dtype,\n",
    "            crs=crs,\n",
    "            transform=transform,\n",
    "        ) as dst:\n",
    "        dst.write(ws_rcp45, 1)"
   ]
  }
 ],
 "metadata": {
  "kernelspec": {
   "display_name": "snail",
   "language": "python",
   "name": "python3"
  },
  "language_info": {
   "codemirror_mode": {
    "name": "ipython",
    "version": 3
   },
   "file_extension": ".py",
   "mimetype": "text/x-python",
   "name": "python",
   "nbconvert_exporter": "python",
   "pygments_lexer": "ipython3",
   "version": "3.11.4"
  }
 },
 "nbformat": 4,
 "nbformat_minor": 2
}
