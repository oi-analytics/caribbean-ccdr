{
 "cells": [
  {
   "attachments": {},
   "cell_type": "markdown",
   "metadata": {},
   "source": [
    "# Extract cyclone windspeed return period maps"
   ]
  },
  {
   "cell_type": "code",
   "execution_count": null,
   "metadata": {},
   "outputs": [],
   "source": [
    "import os\n",
    "import re\n",
    "from glob import glob\n",
    "from pathlib import Path\n",
    "\n",
    "import rasterio\n",
    "import rioxarray\n",
    "import xarray"
   ]
  },
  {
   "cell_type": "code",
   "execution_count": null,
   "metadata": {},
   "outputs": [],
   "source": [
    "os.chdir(\"../../incoming_data/processed_swaths/\")\n",
    "out_dir = \"../../processed_data/hazards/chaz_cyclones\"\n",
    "Path(out_dir).mkdir(parents=True, exist_ok=True)"
   ]
  },
  {
   "cell_type": "code",
   "execution_count": null,
   "metadata": {},
   "outputs": [],
   "source": [
    "fnames = sorted(glob(\"**/*.nc\", recursive=True))\n",
    "fnames"
   ]
  },
  {
   "cell_type": "code",
   "execution_count": null,
   "metadata": {},
   "outputs": [],
   "source": [
    "def read_netcdf(fname):\n",
    "    ds = xarray.open_dataset(fname)\n",
    "    del ds['file']\n",
    "    ds = ds.rename({'lat':'y','lon':'x'})\n",
    "    ds.rio.set_spatial_dims(x_dim=\"x\", y_dim=\"y\", inplace=True)\n",
    "    ds.rio.write_crs(\"epsg:4326\", inplace=True)\n",
    "    return ds"
   ]
  },
  {
   "cell_type": "code",
   "execution_count": null,
   "metadata": {},
   "outputs": [],
   "source": [
    "RPS = [5, 10, 50, 100]\n",
    "for fname in fnames:\n",
    "    matches = re.search(r\"(\\w+)/max_windspeed_(\\d+)\", fname)\n",
    "    ssp, year = matches.groups()\n",
    "\n",
    "    if \"future\" in ssp:\n",
    "        ssp = f'ssp{ssp.replace(\"_future\", \"\")}'\n",
    "    else:\n",
    "        ssp = \"baseline\"\n",
    "\n",
    "    if year == \"1951\":\n",
    "        epoch = \"2010\"\n",
    "    elif year == \"2030\":\n",
    "        epoch = \"2030\"\n",
    "    elif year == \"2060\":\n",
    "        epoch = \"2050\"\n",
    "    elif year == \"2080\":\n",
    "        continue\n",
    "    else:\n",
    "        assert False, \"Unrecognised year\"\n",
    "\n",
    "    \n",
    "    ds = read_netcdf(fname)\n",
    "    for rp in RPS:\n",
    "        out_fname  = os.path.join(\n",
    "            out_dir, \n",
    "            f\"cyclone_windspeed__epoch_{epoch}__rcp_{ssp}__rp_{rp}__isoa3_lca.tif\")\n",
    "        ds[f'rp_{rp}'].rio.to_raster(out_fname)\n",
    "        print(out_fname)"
   ]
  }
 ],
 "metadata": {
  "kernelspec": {
   "display_name": "snail",
   "language": "python",
   "name": "python3"
  },
  "language_info": {
   "codemirror_mode": {
    "name": "ipython",
    "version": 3
   },
   "file_extension": ".py",
   "mimetype": "text/x-python",
   "name": "python",
   "nbconvert_exporter": "python",
   "pygments_lexer": "ipython3",
   "version": "3.11.0"
  }
 },
 "nbformat": 4,
 "nbformat_minor": 2
}
