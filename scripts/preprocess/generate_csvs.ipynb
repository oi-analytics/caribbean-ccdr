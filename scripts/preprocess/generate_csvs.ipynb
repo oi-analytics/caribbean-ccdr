{
 "cells": [
  {
   "attachments": {},
   "cell_type": "markdown",
   "metadata": {},
   "source": [
    "# Generate CSV overviews of hazards for exposure analysis"
   ]
  },
  {
   "cell_type": "code",
   "execution_count": null,
   "metadata": {},
   "outputs": [],
   "source": [
    "from glob import glob\n",
    "from pathlib import Path\n",
    "\n",
    "import pandas as pd\n"
   ]
  },
  {
   "cell_type": "code",
   "execution_count": null,
   "metadata": {},
   "outputs": [],
   "source": [
    "glob(\"../../processed_data/hazards/*\")\n"
   ]
  },
  {
   "cell_type": "code",
   "execution_count": null,
   "metadata": {},
   "outputs": [],
   "source": [
    "isos = (\"vct\", \"grd\", \"lca\", \"dma\")\n",
    "\n",
    "\n",
    "def generate_csv(tiffs, extract_cols, extract_pattern):\n",
    "    fnames = sorted(f.replace(\"../../processed_data/\", \"\") for f in glob(tiffs))\n",
    "    df = pd.DataFrame({\"fname\": fnames})\n",
    "    df[\"key\"] = df.fname.apply(lambda f: Path(f).stem)\n",
    "    df[extract_cols] = df.key.str.extract(extract_pattern)\n",
    "    return df\n"
   ]
  },
  {
   "cell_type": "code",
   "execution_count": null,
   "metadata": {},
   "outputs": [],
   "source": [
    "df = generate_csv(\n",
    "    \"../../processed_data/hazards/storm_cyclones/*.tif\",\n",
    "    [\"hazard\", \"epoch\", \"rcp\", \"gcm\", \"rp\", \"isoa3\"],\n",
    "    r\"(\\w+)__epoch_(\\d+)__rcp_(\\w+)__gcm_([^_]+)__rp_(\\w+)__isoa3_(\\w+)\"\n",
    ")\n",
    "\n",
    "for isoa3 in isos:\n",
    "    iso_df = df[df.isoa3 == isoa3]\n",
    "    iso_df.to_csv(f\"../../processed_data/storm_cyclones_{isoa3}.csv\", index=False)\n",
    "\n",
    "df.to_csv(\"../../processed_data/storm_cyclones.csv\", index=False)\n"
   ]
  },
  {
   "cell_type": "code",
   "execution_count": null,
   "metadata": {},
   "outputs": [],
   "source": [
    "df = generate_csv(\n",
    "    \"../../processed_data/hazards/charim_landslide/*.tif\",\n",
    "    [\"hazard\", \"isoa3\"],\n",
    "    r\"(\\w+)__isoa3_(\\w+)\",\n",
    ")\n",
    "\n",
    "for isoa3 in isos:\n",
    "    iso_df = df[df.isoa3 == isoa3]\n",
    "    iso_df.to_csv(f\"../../processed_data/charim_landslide_{isoa3}.csv\", index=False)\n",
    "\n",
    "df.to_csv(\"../../processed_data/charim_landslide.csv\", index=False)\n"
   ]
  },
  {
   "cell_type": "code",
   "execution_count": null,
   "metadata": {},
   "outputs": [],
   "source": [
    "df = generate_csv(\n",
    "    \"../../processed_data/hazards/deltares_storm_surge/*.tif\",\n",
    "    [\"hazard\", \"epoch\", \"rcp\", \"rp\", \"isoa3\"],\n",
    "    r\"(\\w+)__epoch_(\\d+)__rcp_(\\w+)__rp_(\\d+)__isoa3_(\\w+)\",\n",
    ")\n",
    "df.rcp = df.rcp.str.replace(\"45\", \"ssp245\")\n",
    "df.rcp = df.rcp.str.replace(\"85\", \"ssp585\")\n",
    "df = df[df.epoch.isin((\"2010\", \"2030\", \"2050\"))]  # drop 2070, 2100\n",
    "df = df[df.rp.isin((\"5\", \"10\", \"50\", \"100\"))]  # drop 1, 2\n",
    "\n",
    "for isoa3 in isos:\n",
    "    iso_df = df[df.isoa3 == isoa3]\n",
    "    iso_df.to_csv(f\"../../processed_data/deltares_storm_surge_{isoa3}.csv\", index=False)\n",
    "\n",
    "df.to_csv(\"../../processed_data/deltares_storm_surge.csv\", index=False)\n"
   ]
  },
  {
   "cell_type": "code",
   "execution_count": null,
   "metadata": {},
   "outputs": [],
   "source": [
    "# pluvial__epoch_2050__rcp_ssp585__precipitation-factor_rxmonth__stat_p10__rp_10__isoa3_lca\n",
    "df = generate_csv(\n",
    "    \"../../processed_data/hazards/fathom_pluvial_fluvial/*.tif\",\n",
    "    [\"hazard\", \"epoch\", \"rcp\", \"precipitation-factor\", \"stat\", \"rp\", \"isoa3\"],\n",
    "    r\"(\\w+)__epoch_(\\d+)__rcp_(\\w+)__precipitation-factor_(\\w+)__stat_(\\w+)__rp_(\\d+)__isoa3_(\\w+)\",\n",
    ")\n",
    "df = df[df.rp.isin((\"5\", \"10\", \"50\", \"100\"))]  # drop 20, 75, 200, 250, 500, 1000\n",
    "\n",
    "for isoa3 in isos:\n",
    "    iso_df = df[df.isoa3 == isoa3]\n",
    "    iso_df.to_csv(\n",
    "        f\"../../processed_data/fathom_pluvial_fluvial_{isoa3}.csv\", index=False\n",
    "    )\n",
    "\n",
    "df.to_csv(\"../../processed_data/fathom_pluvial_fluvial.csv\", index=False)\n"
   ]
  },
  {
   "cell_type": "code",
   "execution_count": null,
   "metadata": {},
   "outputs": [],
   "source": [
    "df = generate_csv(\n",
    "    \"../../processed_data/hazards/chaz_cyclones/*.tif\",\n",
    "    [\"hazard\", \"epoch\", \"rcp\", \"rp\", \"isoa3\"],\n",
    "    r\"(\\w+)__epoch_(\\d+)__rcp_(\\w+)__rp_(\\d+)__isoa3_(\\w+)\",\n",
    ")\n",
    "\n",
    "for isoa3 in isos:\n",
    "    iso_df = df[df.isoa3 == isoa3]\n",
    "    iso_df.to_csv(\n",
    "        f\"../../processed_data/chaz_cyclones_{isoa3}.csv\", index=False\n",
    "    )\n",
    "\n",
    "df.to_csv(\"../../processed_data/chaz_cyclones.csv\", index=False)\n"
   ]
  }
 ],
 "metadata": {
  "kernelspec": {
   "display_name": "snail",
   "language": "python",
   "name": "python3"
  },
  "language_info": {
   "codemirror_mode": {
    "name": "ipython",
    "version": 3
   },
   "file_extension": ".py",
   "mimetype": "text/x-python",
   "name": "python",
   "nbconvert_exporter": "python",
   "pygments_lexer": "ipython3",
   "version": "3.11.6"
  }
 },
 "nbformat": 4,
 "nbformat_minor": 2
}
